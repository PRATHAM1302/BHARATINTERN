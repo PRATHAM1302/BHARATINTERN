{
 "cells": [
  {
   "cell_type": "code",
   "execution_count": 1,
   "metadata": {},
   "outputs": [],
   "source": [
    "import yfinance as yf\n",
    "import numpy as np\n",
    "import pandas as pd\n",
    "import matplotlib.pyplot as plt\n",
    "from sklearn.preprocessing import MinMaxScaler\n",
    "from tensorflow.keras.models import Sequential\n",
    "from tensorflow.keras.layers import LSTM, Dense"
   ]
  },
  {
   "cell_type": "code",
   "execution_count": 2,
   "metadata": {},
   "outputs": [],
   "source": [
    "# Define the stock symbol and date range\n",
    "stock_symbol = 'AAPL'\n",
    "start_date = '2010-01-01'\n",
    "end_date = '2021-01-01'\n"
   ]
  },
  {
   "cell_type": "code",
   "execution_count": 3,
   "metadata": {},
   "outputs": [
    {
     "name": "stdout",
     "output_type": "stream",
     "text": [
      "[*********************100%%**********************]  1 of 1 completed\n"
     ]
    }
   ],
   "source": [
    "# Fetch historical stock price data\n",
    "data = yf.download(stock_symbol, start=start_date, end=end_date)"
   ]
  },
  {
   "cell_type": "code",
   "execution_count": 4,
   "metadata": {},
   "outputs": [],
   "source": [
    "# Extract the 'Close' prices\n",
    "prices = data['Close'].values.reshape(-1, 1)"
   ]
  },
  {
   "cell_type": "code",
   "execution_count": 5,
   "metadata": {},
   "outputs": [],
   "source": [
    "# Normalize the data\n",
    "scaler = MinMaxScaler()\n",
    "prices_scaled = scaler.fit_transform(prices)"
   ]
  },
  {
   "cell_type": "code",
   "execution_count": 6,
   "metadata": {},
   "outputs": [],
   "source": [
    "# Split the data into training and testing sets\n",
    "train_size = int(len(prices_scaled) * 0.8)\n",
    "train_data = prices_scaled[:train_size]\n",
    "test_data = prices_scaled[train_size:]"
   ]
  },
  {
   "cell_type": "code",
   "execution_count": 7,
   "metadata": {},
   "outputs": [],
   "source": [
    "# Create sequences for the LSTM model\n",
    "def create_sequences(data, seq_length):\n",
    "    X, y = [], []\n",
    "    for i in range(len(data) - seq_length):\n",
    "        X.append(data[i:i+seq_length])\n",
    "        y.append(data[i+seq_length])\n",
    "    return np.array(X), np.array(y)\n",
    "\n",
    "seq_length = 10\n",
    "X_train, y_train = create_sequences(train_data, seq_length)\n",
    "X_test, y_test = create_sequences(test_data, seq_length)"
   ]
  },
  {
   "cell_type": "code",
   "execution_count": 8,
   "metadata": {},
   "outputs": [],
   "source": [
    "# Build the LSTM model\n",
    "model = Sequential()\n",
    "model.add(LSTM(50, activation='relu', input_shape=(seq_length, 1)))\n",
    "model.add(Dense(1))\n",
    "model.compile(optimizer='adam', loss='mean_squared_error')"
   ]
  },
  {
   "cell_type": "code",
   "execution_count": 9,
   "metadata": {},
   "outputs": [
    {
     "name": "stdout",
     "output_type": "stream",
     "text": [
      "Epoch 1/50\n",
      "69/69 [==============================] - 2s 6ms/step - loss: 0.0042\n",
      "Epoch 2/50\n",
      "69/69 [==============================] - 0s 5ms/step - loss: 4.9767e-05\n",
      "Epoch 3/50\n",
      "69/69 [==============================] - 0s 7ms/step - loss: 3.5016e-05\n",
      "Epoch 4/50\n",
      "69/69 [==============================] - 0s 7ms/step - loss: 3.3022e-05\n",
      "Epoch 5/50\n",
      "69/69 [==============================] - 0s 7ms/step - loss: 3.3853e-05\n",
      "Epoch 6/50\n",
      "69/69 [==============================] - 0s 6ms/step - loss: 3.3036e-05\n",
      "Epoch 7/50\n",
      "69/69 [==============================] - 0s 6ms/step - loss: 3.4283e-05\n",
      "Epoch 8/50\n",
      "69/69 [==============================] - 0s 5ms/step - loss: 3.7244e-05\n",
      "Epoch 9/50\n",
      "69/69 [==============================] - 0s 5ms/step - loss: 3.2368e-05\n",
      "Epoch 10/50\n",
      "69/69 [==============================] - 0s 5ms/step - loss: 3.2507e-05\n",
      "Epoch 11/50\n",
      "69/69 [==============================] - 0s 5ms/step - loss: 3.2730e-05\n",
      "Epoch 12/50\n",
      "69/69 [==============================] - 0s 7ms/step - loss: 3.2500e-05\n",
      "Epoch 13/50\n",
      "69/69 [==============================] - 1s 7ms/step - loss: 3.1898e-05\n",
      "Epoch 14/50\n",
      "69/69 [==============================] - 0s 5ms/step - loss: 3.2649e-05\n",
      "Epoch 15/50\n",
      "69/69 [==============================] - 0s 5ms/step - loss: 3.1261e-05\n",
      "Epoch 16/50\n",
      "69/69 [==============================] - 0s 5ms/step - loss: 3.1272e-05\n",
      "Epoch 17/50\n",
      "69/69 [==============================] - 0s 5ms/step - loss: 3.0727e-05\n",
      "Epoch 18/50\n",
      "69/69 [==============================] - 0s 5ms/step - loss: 3.1285e-05\n",
      "Epoch 19/50\n",
      "69/69 [==============================] - 0s 5ms/step - loss: 3.1028e-05\n",
      "Epoch 20/50\n",
      "69/69 [==============================] - 0s 5ms/step - loss: 2.9072e-05\n",
      "Epoch 21/50\n",
      "69/69 [==============================] - 0s 5ms/step - loss: 3.1546e-05\n",
      "Epoch 22/50\n",
      "69/69 [==============================] - 0s 5ms/step - loss: 3.1081e-05\n",
      "Epoch 23/50\n",
      "69/69 [==============================] - 0s 6ms/step - loss: 2.9422e-05\n",
      "Epoch 24/50\n",
      "69/69 [==============================] - 1s 8ms/step - loss: 3.0561e-05\n",
      "Epoch 25/50\n",
      "69/69 [==============================] - 0s 5ms/step - loss: 2.9625e-05\n",
      "Epoch 26/50\n",
      "69/69 [==============================] - 0s 5ms/step - loss: 2.7647e-05\n",
      "Epoch 27/50\n",
      "69/69 [==============================] - 1s 7ms/step - loss: 2.8153e-05\n",
      "Epoch 28/50\n",
      "69/69 [==============================] - 0s 5ms/step - loss: 2.8962e-05\n",
      "Epoch 29/50\n",
      "69/69 [==============================] - 0s 6ms/step - loss: 2.8637e-05\n",
      "Epoch 30/50\n",
      "69/69 [==============================] - 0s 5ms/step - loss: 2.8170e-05\n",
      "Epoch 31/50\n",
      "69/69 [==============================] - 0s 5ms/step - loss: 2.7059e-05\n",
      "Epoch 32/50\n",
      "69/69 [==============================] - 0s 5ms/step - loss: 2.7808e-05\n",
      "Epoch 33/50\n",
      "69/69 [==============================] - 0s 5ms/step - loss: 2.6928e-05\n",
      "Epoch 34/50\n",
      "69/69 [==============================] - 0s 5ms/step - loss: 2.6888e-05\n",
      "Epoch 35/50\n",
      "69/69 [==============================] - 0s 6ms/step - loss: 2.7951e-05\n",
      "Epoch 36/50\n",
      "69/69 [==============================] - 0s 6ms/step - loss: 2.7597e-05\n",
      "Epoch 37/50\n",
      "69/69 [==============================] - 0s 5ms/step - loss: 2.6424e-05\n",
      "Epoch 38/50\n",
      "69/69 [==============================] - 0s 5ms/step - loss: 2.6912e-05\n",
      "Epoch 39/50\n",
      "69/69 [==============================] - 0s 5ms/step - loss: 2.6780e-05\n",
      "Epoch 40/50\n",
      "69/69 [==============================] - 0s 5ms/step - loss: 2.5103e-05\n",
      "Epoch 41/50\n",
      "69/69 [==============================] - 0s 5ms/step - loss: 2.3296e-05\n",
      "Epoch 42/50\n",
      "69/69 [==============================] - 0s 5ms/step - loss: 2.4642e-05\n",
      "Epoch 43/50\n",
      "69/69 [==============================] - 0s 5ms/step - loss: 2.3853e-05\n",
      "Epoch 44/50\n",
      "69/69 [==============================] - 0s 5ms/step - loss: 2.3649e-05\n",
      "Epoch 45/50\n",
      "69/69 [==============================] - 0s 5ms/step - loss: 2.3269e-05\n",
      "Epoch 46/50\n",
      "69/69 [==============================] - 0s 5ms/step - loss: 2.3942e-05\n",
      "Epoch 47/50\n",
      "69/69 [==============================] - 0s 5ms/step - loss: 2.4967e-05\n",
      "Epoch 48/50\n",
      "69/69 [==============================] - 0s 5ms/step - loss: 2.5309e-05\n",
      "Epoch 49/50\n",
      "69/69 [==============================] - 0s 5ms/step - loss: 2.1900e-05\n",
      "Epoch 50/50\n",
      "69/69 [==============================] - 0s 5ms/step - loss: 2.1874e-05\n"
     ]
    },
    {
     "data": {
      "text/plain": [
       "<keras.src.callbacks.History at 0x2ac9d84d8d0>"
      ]
     },
     "execution_count": 9,
     "metadata": {},
     "output_type": "execute_result"
    }
   ],
   "source": [
    "# Train the model\n",
    "model.fit(X_train, y_train, epochs=50, batch_size=32)"
   ]
  },
  {
   "cell_type": "code",
   "execution_count": 10,
   "metadata": {},
   "outputs": [
    {
     "name": "stdout",
     "output_type": "stream",
     "text": [
      "Training Loss: 0.0000\n",
      "Testing Loss: 0.0011\n"
     ]
    }
   ],
   "source": [
    "# Evaluate the model\n",
    "train_loss = model.evaluate(X_train, y_train, verbose=0)\n",
    "test_loss = model.evaluate(X_test, y_test, verbose=0)\n",
    "print(f'Training Loss: {train_loss:.4f}')\n",
    "print(f'Testing Loss: {test_loss:.4f}')"
   ]
  },
  {
   "cell_type": "code",
   "execution_count": 11,
   "metadata": {},
   "outputs": [
    {
     "name": "stdout",
     "output_type": "stream",
     "text": [
      "69/69 [==============================] - 0s 3ms/step\n",
      "17/17 [==============================] - 0s 3ms/step\n"
     ]
    }
   ],
   "source": [
    "# Make predictions\n",
    "train_predictions = model.predict(X_train)\n",
    "test_predictions = model.predict(X_test)\n",
    "\n",
    "# Inverse transform the predictions to get actual prices\n",
    "train_predictions = scaler.inverse_transform(train_predictions)\n",
    "test_predictions = scaler.inverse_transform(test_predictions)"
   ]
  },
  {
   "cell_type": "code",
   "execution_count": 12,
   "metadata": {},
   "outputs": [
    {
     "data": {
      "image/png": "[encoded data removed]",
      "text/plain": [
       "<Figure size 1200x600 with 1 Axes>"
      ]
     },
     "metadata": {},
     "output_type": "display_data"
    }
   ],
   "source": [
    "# Plot the predictions\n",
    "plt.figure(figsize=(12, 6))\n",
    "plt.plot(prices, label='Actual Prices', color='blue')\n",
    "plt.plot(range(len(prices) - len(test_predictions), len(prices)), test_predictions, label='Testing Predictions', color='red')\n",
    "plt.xlabel('Time')\n",
    "plt.ylabel('Stock Price')\n",
    "plt.legend()\n",
    "plt.show()"
   ]
  }
 ],
 "metadata": {
  "kernelspec": {
   "display_name": "Python 3 (ipykernel)",
   "language": "python",
   "name": "python3"
  },
  "language_info": {
   "codemirror_mode": {
    "name": "ipython",
    "version": 3
   },
   "file_extension": ".py",
   "mimetype": "text/x-python",
   "name": "python",
   "nbconvert_exporter": "python",
   "pygments_lexer": "ipython3",
   "version": "3.11.5"
  }
 },
 "nbformat": 4,
 "nbformat_minor": 2
}
